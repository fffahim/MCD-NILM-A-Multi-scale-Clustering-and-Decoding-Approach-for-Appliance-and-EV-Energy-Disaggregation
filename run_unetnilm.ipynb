{
 "cells": [
  {
   "cell_type": "code",
   "execution_count": null,
   "metadata": {},
   "outputs": [],
   "source": [
    "import numpy as np\n",
    "import torch\n",
    "import torch.nn as nn\n",
    "import pandas as pd\n",
    "import json\n",
    "from types import SimpleNamespace\n",
    "import torch.optim as optim\n",
    "from torch.optim.lr_scheduler import ReduceLROnPlateau\n",
    "\n",
    "%run data_preprocess.ipynb\n",
    "%run helper.ipynb\n",
    "%run wrapper.ipynb\n",
    "%run models/UNETNilm.ipynb\n",
    "%run visualize.ipynb\n",
    "%run data_postprocess.ipynb"
   ]
  },
  {
   "cell_type": "code",
   "execution_count": null,
   "metadata": {},
   "outputs": [],
   "source": [
    "dataport_appliance_data_661 = {\n",
    "    \"refrigerator\": {\n",
    "        \"mean\": 60.52,\n",
    "        \"std\": 66.42,\n",
    "        \"window\":100,\n",
    "        'on_power_threshold': 50,\n",
    "        'min': 0,\n",
    "        'max': 683\n",
    "    },\n",
    "    \"ev_car\": {\n",
    "        \"mean\": 204.14,\n",
    "        \"std\": 737,\n",
    "        'window':10,\n",
    "        'on_power_threshold': 2000,\n",
    "        'max': 3420,\n",
    "        'min': 0,\n",
    "    },\n",
    "    \"dishwasher\": {\n",
    "        \"mean\": 6.77,\n",
    "        \"std\": 55.07,\n",
    "        \"window\":3,\n",
    "        'on_power_threshold': 10,\n",
    "        'max': 960,\n",
    "        'min': 0,\n",
    "    },\n",
    "    \"clotheswasher\": {\n",
    "        \"mean\": 7.38,\n",
    "        \"std\": 52.77,\n",
    "        \"window\":100,\n",
    "        'on_power_threshold': 20,\n",
    "        'max': 1143,\n",
    "        'min': 0,\n",
    "    },\n",
    "    \"air\": {\n",
    "        \"mean\": 442.99,\n",
    "        \"std\": 769.72,\n",
    "        \"window\":100,\n",
    "        'on_power_threshold': 20,\n",
    "        'max': 2783,\n",
    "        'min': 0,\n",
    "    },\n",
    "    \"microwave\": {\n",
    "        \"mean\": 8.23,\n",
    "        \"std\": 36.44,\n",
    "        \"window\":100,\n",
    "        'on_power_threshold': 200,\n",
    "        'min': 0,\n",
    "        'max': 980\n",
    "    },\n",
    "    \"others\": {\n",
    "        \"mean\": 195,\n",
    "        \"std\": 178,\n",
    "        \"window\":100,\n",
    "        'on_power_threshold': 0,\n",
    "        'min': 0,\n",
    "        'max': 1942\n",
    "    }\n",
    "}\n",
    "\n",
    "# 8156\n",
    "dataport_appliance_data_8156 = {\n",
    "    \"refrigerator\": {\n",
    "        \"mean\": 93.80,\n",
    "        \"std\": 54.22,\n",
    "        \"window\":100,\n",
    "        'on_power_threshold': 50,\n",
    "        'min': 6,\n",
    "        'max': 562\n",
    "    },\n",
    "    \"ev_car\": {\n",
    "        \"mean\": 207.76,\n",
    "        \"std\": 750.25,\n",
    "        'window':10,\n",
    "        'on_power_threshold': 2000,\n",
    "        'max': 3330,\n",
    "        'min': 0,\n",
    "    },\n",
    "    \"dishwasher\": {\n",
    "        \"mean\": 28.34,\n",
    "        \"std\": 117.14,\n",
    "        \"window\":3,\n",
    "        'on_power_threshold': 10,\n",
    "        'max': 936,\n",
    "        'min': 0,\n",
    "    },\n",
    "    \"clotheswasher\": {\n",
    "        \"mean\": 16.72,\n",
    "        \"std\": 96.89,\n",
    "        \"window\":100,\n",
    "        'on_power_threshold': 20,\n",
    "        'max': 1141,\n",
    "        'min': 0,\n",
    "    },\n",
    "    \"air\": {\n",
    "        \"mean\": 918.16,\n",
    "        \"std\": 1214.59,\n",
    "        \"window\":100,\n",
    "        'on_power_threshold': 20,\n",
    "        'max': 3949,\n",
    "        'min': 0,\n",
    "    },\n",
    "    \"microwave\": {\n",
    "        \"mean\": 13.89,\n",
    "        \"std\": 73.69,\n",
    "        \"window\":100,\n",
    "        'on_power_threshold': 200,\n",
    "        'min': 0,\n",
    "        'max': 1678\n",
    "    },\n",
    "    \"others\": {\n",
    "        \"mean\": 610.91,\n",
    "        \"std\": 461.16,\n",
    "        \"window\":100,\n",
    "        'on_power_threshold': 0,\n",
    "        'min': 76,\n",
    "        'max': 5226\n",
    "    }\n",
    "}\n"
   ]
  },
  {
   "cell_type": "code",
   "execution_count": null,
   "metadata": {},
   "outputs": [],
   "source": [
    "columns = ['refrigerator', 'ev_car', 'dishwasher', 'clotheswasher', 'air', 'microwave', 'others']"
   ]
  },
  {
   "cell_type": "code",
   "execution_count": null,
   "metadata": {},
   "outputs": [],
   "source": [
    "with open(\"Config/model_config.json\") as json_data:\n",
    "    data = json.load(json_data, object_hook=lambda d: SimpleNamespace(**d))\n",
    "    model_params = data.unetnilm\n",
    "    model_params.device = torch.device(\"cuda\" if torch.cuda.is_available() else \"cpu\")"
   ]
  },
  {
   "cell_type": "code",
   "execution_count": null,
   "metadata": {},
   "outputs": [],
   "source": [
    "with open(\"Config/appliances_list.json\") as json_data:\n",
    "    appliances_list = json.load(json_data)\n",
    "    appliances_list['appliances'] = appliances_list['appliances']"
   ]
  },
  {
   "cell_type": "code",
   "execution_count": null,
   "metadata": {},
   "outputs": [],
   "source": [
    "data_preprocess = QuantileDataPreprocess(model_params)"
   ]
  },
  {
   "cell_type": "code",
   "execution_count": null,
   "metadata": {},
   "outputs": [],
   "source": [
    "visualizer = Visualizer()\n",
    "data_postprocess = DataPostProcess(model_params)"
   ]
  },
  {
   "cell_type": "code",
   "execution_count": null,
   "metadata": {},
   "outputs": [],
   "source": [
    "model_evaluation = ModelEvaluation()"
   ]
  },
  {
   "cell_type": "code",
   "execution_count": null,
   "metadata": {},
   "outputs": [],
   "source": [
    "data_preprocess.pre_process_data_for_unetnilm(dataport_appliance_data_8156, '8156', columns)"
   ]
  },
  {
   "cell_type": "code",
   "execution_count": null,
   "metadata": {},
   "outputs": [],
   "source": [
    "data_preprocess.pre_process_data_for_unetnilm(dataport_appliance_data_661, '661', columns)"
   ]
  },
  {
   "cell_type": "code",
   "execution_count": null,
   "metadata": {},
   "outputs": [],
   "source": [
    "helper = PrepareDataForQuantile(model_params)"
   ]
  },
  {
   "cell_type": "code",
   "execution_count": null,
   "metadata": {},
   "outputs": [],
   "source": [
    "train_loader, test_loader, val_loader = helper.get_data_loaders(model_params.start_col, model_params.end_col, model_params.lag_size)"
   ]
  },
  {
   "cell_type": "code",
   "execution_count": null,
   "metadata": {},
   "outputs": [],
   "source": [
    "for x, y in train_loader:\n",
    "    print(x.shape, y.shape)\n",
    "    break"
   ]
  },
  {
   "cell_type": "code",
   "execution_count": null,
   "metadata": {},
   "outputs": [],
   "source": [
    "wrapper = Wrapper(model_params)"
   ]
  },
  {
   "cell_type": "code",
   "execution_count": null,
   "metadata": {},
   "outputs": [],
   "source": [
    "unet_model = UNETNilm(in_size=model_params.input_size, output_size=model_params.output_size, seq_len=model_params.lag_size).to(model_params.device)\n",
    "# criterion =  QuantileLoss(model_params.quantiles) # Mean Squared Error loss\n",
    "criterion = nn.MSELoss()\n",
    "optimizer = optim.Adam(unet_model.parameters(), lr=0.001)\n",
    "scheduler = ReduceLROnPlateau(optimizer, mode='min', factor=0.1, patience=5, verbose=True)"
   ]
  },
  {
   "cell_type": "code",
   "execution_count": null,
   "metadata": {},
   "outputs": [],
   "source": [
    "model_evaluation.get_memory_stats(unet_model, input_shape=(30, 1), batch_size=256)"
   ]
  },
  {
   "cell_type": "code",
   "execution_count": null,
   "metadata": {},
   "outputs": [],
   "source": [
    "ground_truth, prediction = wrapper.regression_model_train(unet_model, train_loader, val_loader, optimizer, criterion, scheduler)"
   ]
  },
  {
   "cell_type": "code",
   "execution_count": null,
   "metadata": {},
   "outputs": [],
   "source": [
    "ground_truth_1 = ground_truth\n",
    "prediction_1 = prediction"
   ]
  },
  {
   "cell_type": "code",
   "execution_count": null,
   "metadata": {},
   "outputs": [],
   "source": [
    "ground_truth = ground_truth_1\n",
    "prediction = prediction_1"
   ]
  },
  {
   "cell_type": "code",
   "execution_count": null,
   "metadata": {},
   "outputs": [],
   "source": [
    "ground_truth, prediction = data_postprocess.reverse_scale_data_unetnilm(ground_truth.cpu().detach().numpy(), prediction.cpu().detach().numpy(), dataport_appliance_data_8156, 'standard')"
   ]
  },
  {
   "cell_type": "code",
   "execution_count": null,
   "metadata": {},
   "outputs": [],
   "source": [
    "visualizer.visualize_plot( ground_truth, prediction, 00, 160000, 0)"
   ]
  },
  {
   "cell_type": "code",
   "execution_count": null,
   "metadata": {},
   "outputs": [],
   "source": [
    "ground_truth_test, prediction_test = wrapper.regression_model_test(unet_model, test_loader)"
   ]
  },
  {
   "cell_type": "code",
   "execution_count": null,
   "metadata": {},
   "outputs": [],
   "source": [
    "visualizer.visualize_plot(ground_truth_test.cpu().detach().numpy(), prediction_test.cpu().detach().numpy(), 800, 12000, 2)"
   ]
  },
  {
   "cell_type": "code",
   "execution_count": null,
   "metadata": {},
   "outputs": [],
   "source": [
    "ground_truth_test, prediction_test = data_postprocess.reverse_scale_data_unetnilm(ground_truth_test.cpu().detach().numpy(), prediction_test.cpu().detach().numpy(), dataport_appliance_data_661, 'standard')"
   ]
  },
  {
   "cell_type": "code",
   "execution_count": null,
   "metadata": {},
   "outputs": [],
   "source": [
    "ground_truth_test.shape, prediction_test.shape"
   ]
  },
  {
   "cell_type": "code",
   "execution_count": null,
   "metadata": {},
   "outputs": [],
   "source": [
    "visualizer.visualize_plot(ground_truth_test, prediction_test, 200, 48000, 4)"
   ]
  },
  {
   "cell_type": "code",
   "execution_count": null,
   "metadata": {},
   "outputs": [],
   "source": [
    "wrapper.appliance_wise_metrics(appliances_list, ground_truth_test, prediction_test)"
   ]
  },
  {
   "cell_type": "code",
   "execution_count": null,
   "metadata": {},
   "outputs": [],
   "source": [
    "wrapper.appliance_wise_metrics(appliances_list, ground_truth_test, prediction_test)"
   ]
  },
  {
   "cell_type": "code",
   "execution_count": null,
   "metadata": {},
   "outputs": [],
   "source": [
    "wrapper.appliance_wise_metrics(appliances_list, ground_truth_test, prediction_test)"
   ]
  },
  {
   "cell_type": "code",
   "execution_count": null,
   "metadata": {},
   "outputs": [],
   "source": [
    "# save the predicted and ground truth values to csv files\n",
    "ground_truth_df = pd.DataFrame(ground_truth_test, columns=columns)\n",
    "prediction_df = pd.DataFrame(prediction_test, columns=columns)"
   ]
  },
  {
   "cell_type": "code",
   "execution_count": null,
   "metadata": {},
   "outputs": [],
   "source": [
    "ground_truth_df.to_csv('Results/output/ground_truth_unet_withoutev_8156.csv', index=False)"
   ]
  },
  {
   "cell_type": "code",
   "execution_count": null,
   "metadata": {},
   "outputs": [],
   "source": [
    "prediction_df.to_csv('Results/output/prediction_unet_withoutev_8156.csv', index=False)"
   ]
  },
  {
   "cell_type": "code",
   "execution_count": null,
   "metadata": {},
   "outputs": [],
   "source": []
  }
 ],
 "metadata": {
  "kernelspec": {
   "display_name": "base",
   "language": "python",
   "name": "python3"
  },
  "language_info": {
   "codemirror_mode": {
    "name": "ipython",
    "version": 3
   },
   "file_extension": ".py",
   "mimetype": "text/x-python",
   "name": "python",
   "nbconvert_exporter": "python",
   "pygments_lexer": "ipython3",
   "version": "3.9.18"
  }
 },
 "nbformat": 4,
 "nbformat_minor": 2
}
