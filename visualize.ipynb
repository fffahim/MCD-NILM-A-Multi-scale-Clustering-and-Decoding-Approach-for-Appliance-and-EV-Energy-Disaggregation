{
 "cells": [
  {
   "cell_type": "code",
   "execution_count": 4,
   "metadata": {},
   "outputs": [],
   "source": [
    "import matplotlib.pyplot as plt\n",
    "import pandas as pd\n",
    "\n",
    "\n",
    "class Visualizer:\n",
    "    def __init__(self):\n",
    "        pass\n",
    "\n",
    "    def visualize_plot(self, ground_truth, predicted, start, end, col, file_path=None):\n",
    "        # plt.figure(figsize=(20, 10))\n",
    "        plt.plot(ground_truth[start:end, col], label='Ground Truth')\n",
    "        plt.plot(predicted[start:end, col], label='Predicted')\n",
    "        plt.legend()\n",
    "        # plt.savefig(file_path)\n",
    "        plt.show()"
   ]
  },
  {
   "cell_type": "code",
   "execution_count": 2,
   "metadata": {},
   "outputs": [],
   "source": [
    "# import matplotlib.pyplot as plt\n",
    "# import numpy as np\n",
    "\n",
    "# # Data\n",
    "# models = ['UNET-NILM', 'ResNet-seq2seq', 'CNN', 'VAE']\n",
    "\n",
    "# # Metrics for Refrigerator\n",
    "# # MAE\n",
    "# mae_without_ev = [8.117, 9.520, 45.510, 6.770]\n",
    "# mae_with_ev = [19.198, 26.413, 46.643, 10.391]\n",
    "\n",
    "# # EAC\n",
    "# eac_without_ev = [0.885, 0.860, 0.334, 0.904]\n",
    "# eac_with_ev = [0.784, 0.614, 0.317, 0.853]\n",
    "\n",
    "# # NDE\n",
    "# nde_without_ev = [0.118, 0.138, 0.902, 0.099]\n",
    "# nde_with_ev = [0.234, 0.351, 0.942, 0.150]\n",
    "\n",
    "# # Position settings\n",
    "# x = np.arange(len(models))  # Model positions\n",
    "# bar_width = 0.35  # Width of bars\n",
    "\n",
    "# # Create subplots for MAE, EAC, and NDE\n",
    "# fig, axes = plt.subplots(1, 3, figsize=(18, 6))\n",
    "\n",
    "# # MAE Plot\n",
    "# axes[0].bar(x - bar_width/2, mae_without_ev, bar_width, label='Without EV', color='skyblue')\n",
    "# axes[0].bar(x + bar_width/2, mae_with_ev, bar_width, label='With EV', color='orange')\n",
    "# axes[0].set_title('Mean Absolute Error (MAE)')\n",
    "# axes[0].set_xticks(x)\n",
    "# axes[0].set_xticklabels(models)\n",
    "# axes[0].set_ylabel('MAE')\n",
    "# axes[0].legend()\n",
    "\n",
    "# # EAC Plot\n",
    "# axes[1].bar(x - bar_width/2, eac_without_ev, bar_width, label='Without EV')\n",
    "# axes[1].bar(x + bar_width/2, eac_with_ev, bar_width, label='With EV')\n",
    "# axes[1].set_title('Estimated Accuracy (EAC)')\n",
    "# axes[1].set_xticks(x)\n",
    "# axes[1].set_xticklabels(models)\n",
    "# axes[1].set_ylabel('EAC')\n",
    "# axes[1].legend()\n",
    "\n",
    "# # NDE Plot\n",
    "# axes[2].bar(x - bar_width/2, nde_without_ev, bar_width, label='Without EV', color='green')\n",
    "# axes[2].bar(x + bar_width/2, nde_with_ev, bar_width, label='With EV', color='orange')\n",
    "# axes[2].set_title('Normalized Disaggregation Error (NDE)')\n",
    "# axes[2].set_xticks(x)\n",
    "# axes[2].set_xticklabels(models)\n",
    "# axes[2].set_ylabel('NDE')\n",
    "# axes[2].legend()\n",
    "\n",
    "# # Adjust layout\n",
    "# plt.tight_layout()\n",
    "# plt.show()\n"
   ]
  },
  {
   "cell_type": "code",
   "execution_count": null,
   "metadata": {},
   "outputs": [],
   "source": []
  }
 ],
 "metadata": {
  "kernelspec": {
   "display_name": "base",
   "language": "python",
   "name": "python3"
  },
  "language_info": {
   "codemirror_mode": {
    "name": "ipython",
    "version": 3
   },
   "file_extension": ".py",
   "mimetype": "text/x-python",
   "name": "python",
   "nbconvert_exporter": "python",
   "pygments_lexer": "ipython3",
   "version": "3.9.18"
  }
 },
 "nbformat": 4,
 "nbformat_minor": 2
}
